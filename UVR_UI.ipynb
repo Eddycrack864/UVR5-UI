{
  "cells": [
    {
      "cell_type": "markdown",
      "metadata": {
        "id": "view-in-github",
        "colab_type": "text"
      },
      "source": [
        "<a href=\"https://colab.research.google.com/github/Eddycrack864/UVR5-UI/blob/main/UVR_UI.ipynb\" target=\"_parent\"><img src=\"https://colab.research.google.com/assets/colab-badge.svg\" alt=\"Open In Colab\"/></a>"
      ]
    },
    {
      "cell_type": "markdown",
      "source": [
        "# **🎵 UVR5 UI 🎵**"
      ],
      "metadata": {
        "id": "IKsiREVTTMgP"
      }
    },
    {
      "cell_type": "markdown",
      "source": [
        "Colab created by **[Not Eddy (Spanish Mod)](http://discord.com/users/274566299349155851)** in **[AI HUB](https://discord.gg/aihub)** community.\n",
        "<br> **If you liked this colab you can star my repo on [GitHub](https://github.com/Eddycrack864/UVR5-UI).** <br>\n",
        "<br>You can donate to the original UVR5 project here:<br>\n",
        "[![\"Buy Me A Coffee\"](https://www.buymeacoffee.com/assets/img/custom_images/orange_img.png)](https://www.buymeacoffee.com/uvr5)\n",
        "\n",
        "Special credits to **[ArisDev](https://github.com/aris-py) & [Nick088](https://linktr.ee/Nick088)** for porting UVR5 UI to Kaggle and improvements and **[NeoDev](https://github.com/TheNeodev)** for the uv code\n",
        "\n",
        "![](https://count.nett.moe/get/uvr5_ui_colab/img?theme=rule34)"
      ],
      "metadata": {
        "id": "Kx7dJ1-DTQbi"
      }
    },
    {
      "cell_type": "code",
      "source": [
        "#@title # **Installation**\n",
        "#@markdown ###This takes around 2 minutes\n",
        "# **Installation**\n",
        "# This cell installs necessary dependencies and may take around 4 minutes.\n",
        "\n",
        "from IPython.display import clear_output\n",
        "from google.colab import drive\n",
        "import codecs\n",
        "\n",
        "#@markdown Check the box below to mount Google Drive (for batch separation)\n",
        "use_drive = True  #@param {type:\"boolean\"}\n",
        "if use_drive:\n",
        "  drive.mount('/content/drive', force_remount=True)\n",
        "\n",
        "gitrepo = codecs.decode('uggcf://tvguho.pbz/Rqqlpenpx864/HIE5-HV.tvg', 'rot_13')\n",
        "repopath = codecs.decode('HIE5-HV/erdhverzragf.gkg', 'rot_13')\n",
        "\n",
        "print(\"Installing...\")\n",
        "\n",
        "!pip install uv pyngrok > /dev/null 2>&1\n",
        "!git clone $gitrepo > /dev/null 2>&1\n",
        "!UV_CONSTRAINT= UV_BUILD_CONSTRAINT= UV_PRERELEASE=if-necessary-or-explicit uv pip install -r $repopath > /dev/null 2>&1\n",
        "!UV_CONSTRAINT= UV_BUILD_CONSTRAINT= UV_PRERELEASE=if-necessary-or-explicit uv pip install pydantic==2.10.6 > /dev/null 2>&1\n",
        "!apt-get update > /dev/null 2>&1\n",
        "!apt-get install -y libcudnn8 > /dev/null 2>&1\n",
        "\n",
        "clear_output()\n",
        "print('Installation done!')"
      ],
      "metadata": {
        "id": "oXYEyNjdWaMm",
        "cellView": "form"
      },
      "execution_count": null,
      "outputs": []
    },
    {
      "cell_type": "code",
      "source": [
        "#@title Run UI\n",
        "import codecs\n",
        "import os\n",
        "path = codecs.decode('/pbagrag/HIE5-HV','rot_13')\n",
        "%cd $path\n",
        "app = codecs.decode('ncc.cl','rot_13')\n",
        "\n",
        "#@markdown The type of tunnel you wanna use for seeing the public link, so that if one of them is down, you can use the other one.\n",
        "Tunnel = \"Gradio\" #@param [\"Gradio\", \"Ngrok\", \"Cloudflare\", \"LocalTunnel\", \"Horizon\"]\n",
        "\n",
        "#@markdown Also when using Ngrok, Cloudflare, LocalTunnel or Horizon, you need to wait for the Local URL to appear, and only after that click on the Public URL which is above.\n",
        "\n",
        "#@markdown Use the following option **only if you chose Ngrok** as the Tunnel:\n",
        "\n",
        "#@markdown You can get the Ngrok Tunnel Authtoken here: https://dashboard.ngrok.com/tunnels/authtokens/new.\n",
        "ngrok_authtoken = \"\" #@param {type:\"string\"}\n",
        "\n",
        "# @markdown You can optinally change the Ngrok Tunnel Region to one nearer to you for lower latency\n",
        "ngrok_region = \"us - United States (Ohio)\" # @param [\"au - Australia (Sydney)\",\"eu - Europe (Frankfurt)\", \"ap - Asia/Pacific (Singapore)\", \"us - United States (Ohio)\", \"jp - Japan (Tokyo)\", \"in - India (Mumbai)\",\"sa - South America (Sao Paulo)\"]\n",
        "\n",
        "\n",
        "#@markdown Use the following option **only if you chose Horizon** as the Tunnel:\n",
        "\n",
        "#@markdown You can get the Horizon ID here: https://hrzn.run/dashboard/ , login, on the 2nd step, it shows an `hrzn login YOUR_ID`, you need to copy that id.\n",
        "horizon_id = \"\" #@param {type:\"string\"}\n",
        "\n",
        "if Tunnel ==\"Gradio\":\n",
        "  share_flag = \"--share\"\n",
        "elif Tunnel == \"Ngrok\":\n",
        "  share_flag = \"\"\n",
        "  from pyngrok import conf, ngrok\n",
        "  NgrokConfig = conf.PyngrokConfig()\n",
        "  NgrokConfig.auth_token = ngrok_authtoken\n",
        "  NgrokConfig.region = ngrok_region[0:2]\n",
        "  conf.set_default(NgrokConfig)\n",
        "  http_tunnel = ngrok.connect(9999, bind_tls=True)\n",
        "  print(\"Ngrok Tunnel Public URL:\", http_tunnel.public_url)\n",
        "elif Tunnel == \"Cloudflare\":\n",
        "  share_flag = \"\"\n",
        "  # download cloudflare\n",
        "  !curl -LO https://github.com/cloudflare/cloudflared/releases/latest/download/cloudflared-linux-amd64.deb\n",
        "  !dpkg -i cloudflared-linux-amd64.deb\n",
        "  !rm -rf nohup.out\n",
        "  import time\n",
        "  # Run cloudflare\n",
        "  !nohup cloudflared tunnel --url localhost:9999 &\n",
        "  clear_output()\n",
        "  time.sleep(5)\n",
        "  # Find and print the Cloudflare URL with a prefix\n",
        "  cloudflare_url = !grep -oE \"https://[a-zA-Z0-9.-]+\\.trycloudflare\\.com\" nohup.out\n",
        "  print(f\"Cloudflare Tunnel Public URL: {cloudflare_url[0]}\")\n",
        "elif Tunnel == \"LocalTunnel\":\n",
        "  share_flag = \"\"\n",
        "  # install\n",
        "  !npm install -g localtunnel\n",
        "  import time\n",
        "  import urllib\n",
        "  # run localtunnel\n",
        "  with open('url.txt', 'w') as file:\n",
        "        file.write('')\n",
        "\n",
        "  get_ipython().system_raw('lt --port 9999 >> url.txt 2>&1 &')\n",
        "\n",
        "  time.sleep(4)\n",
        "\n",
        "  endpoint_ip = urllib.request.urlopen('https://ipv4.icanhazip.com').read().decode('utf8').strip(\"\\n\")\n",
        "\n",
        "  with open('url.txt', 'r') as file:\n",
        "      tunnel_url = file.read()\n",
        "      tunnel_url = tunnel_url.replace(\"your url is: \", \"\")\n",
        "\n",
        "  clear_output()\n",
        "  print(f\"LocalTunnel Tunnel Public URL: \\033[0m\\033[93m{tunnel_url}\\033[0m\", end=\"\\033[0m\")\n",
        "\n",
        "  print(f'LocalTunnel Password: {endpoint_ip}')\n",
        "elif Tunnel == \"Horizon\":\n",
        "  share_flag = \"\"\n",
        "  # install\n",
        "  !npm install -g @hrzn/cli\n",
        "  import time\n",
        "  # login\n",
        "  !hrzn login $horizon_id\n",
        "  # run horizon\n",
        "  with open('url.txt', 'w') as file:\n",
        "        file.write('')\n",
        "\n",
        "  get_ipython().system_raw('hrzn tunnel http://localhost:9999 >> url.txt 2>&1 &')\n",
        "\n",
        "  time.sleep(4)\n",
        "\n",
        "  with open('url.txt', 'r') as file:\n",
        "      tunnel_url = file.read()\n",
        "      tunnel_url = !grep -oE \"https://[a-zA-Z0-9.-]+\\.hrzn\\.run\" url.txt\n",
        "      tunnel_url = tunnel_url[0]\n",
        "\n",
        "  clear_output()\n",
        "\n",
        "  print(f\"Horizon Tunnel Public URL: \\033[0m\\033[93m{tunnel_url}\\033[0m\")\n",
        "\n",
        "# kills previously running processes\n",
        "!fuser -k 9999/tcp\n",
        "\n",
        "command = f\"python {app} {share_flag}\"\n",
        "!{command}"
      ],
      "metadata": {
        "id": "oltZ5MPsWvXl",
        "cellView": "form"
      },
      "execution_count": null,
      "outputs": []
    }
  ],
  "metadata": {
    "accelerator": "GPU",
    "colab": {
      "gpuType": "T4",
      "provenance": [],
      "private_outputs": true,
      "include_colab_link": true
    },
    "kernelspec": {
      "display_name": "Python 3",
      "name": "python3"
    },
    "language_info": {
      "name": "python"
    }
  },
  "nbformat": 4,
  "nbformat_minor": 0
}