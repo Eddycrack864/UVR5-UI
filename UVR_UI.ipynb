{
  "cells": [
    {
      "cell_type": "markdown",
      "metadata": {
        "id": "view-in-github",
        "colab_type": "text"
      },
      "source": [
        "<a href=\"https://colab.research.google.com/github/Eddycrack864/UVR5-UI/blob/main/UVR_UI.ipynb\" target=\"_parent\"><img src=\"https://colab.research.google.com/assets/colab-badge.svg\" alt=\"Open In Colab\"/></a>"
      ]
    },
    {
      "cell_type": "markdown",
      "source": [
        "# **🎵 UVR5 UI 🎵**"
      ],
      "metadata": {
        "id": "IKsiREVTTMgP"
      }
    },
    {
      "cell_type": "markdown",
      "source": [
        "Colab created by **[Not Eddy (Spanish Mod)](http://discord.com/users/274566299349155851)** in **[AI HUB](https://discord.gg/aihub)** community.\n",
        "\n",
        "<br> **If you liked this colab you can star my repo on [GitHub](https://github.com/Eddycrack864/UVR5-UI).** <br>\n",
        "\n",
        "<br>You can donate to the original UVR5 project here:<br>\n",
        "[![\"Buy Me A Coffee\"](https://www.buymeacoffee.com/assets/img/custom_images/orange_img.png)](https://www.buymeacoffee.com/uvr5)\n",
        "\n",
        "Special credits to **[ArisDev](https://github.com/aris-py)** for porting UVR5 UI to Kaggle and improvements.\n",
        "\n",
        "![](https://count.nett.moe/get/uvr5_ui_colab/img?theme=rule34)"
      ],
      "metadata": {
        "id": "Kx7dJ1-DTQbi"
      }
    },
    {
      "cell_type": "code",
      "source": [
        "#@title # **Installation**\n",
        "#@markdown ####This takes around 4 minutes\n",
        "from IPython.display import clear_output\n",
        "from google.colab import drive\n",
        "import codecs\n",
        "drive.mount('/content/drive', force_remount=True)\n",
        "gitrepo = codecs.decode('uggcf://tvguho.pbz/Rqqlpenpx864/HIE5-HV.tvg','rot_13')\n",
        "repopath = codecs.decode('HIE5-HV/erdhverzragf.gkg','rot_13')\n",
        "!git clone $gitrepo\n",
        "!pip install -r $repopath\n",
        "!pip install pyngrok\n",
        "!apt-get update\n",
        "#!pip install ort-nightly-gpu --index-url=https://aiinfra.pkgs.visualstudio.com/PublicPackages/_packaging/ort-cuda-12-nightly/pypi/simple/\n",
        "!apt-get install -y libcudnn8\n",
        "clear_output()\n",
        "print('Installation done !')"
      ],
      "metadata": {
        "id": "oXYEyNjdWaMm",
        "cellView": "form"
      },
      "execution_count": null,
      "outputs": []
    },
    {
      "cell_type": "code",
      "source": [
        "#@title Run UI\n",
        "import codecs\n",
        "import os\n",
        "path = codecs.decode('/pbagrag/HIE5-HV','rot_13')\n",
        "%cd $path\n",
        "app = codecs.decode('ncc.cl','rot_13')\n",
        "Url=\"Gradio\" #@param [\"Gradio\",\"Ngrok\"]\n",
        "#@markdown ---\n",
        "#@markdown - Token is only needed if you are using Ngrok. You can make an account on [ngrok](https://dashboard.ngrok.com/signup) for free.\n",
        "#@markdown - Click [this link](https://dashboard.ngrok.com/get-started/your-authtoken) to get your auth token, and place it here:\n",
        "Token=\"\" #@param {type:\"string\"}\n",
        "if Url==\"Gradio\":\n",
        "    !python $app --share\n",
        "else:\n",
        "    from pyngrok import ngrok\n",
        "    ngrok.set_auth_token(Token)\n",
        "    ngrok.kill()\n",
        "    cover_tunnel = ngrok.connect(9999)\n",
        "    print(\"UVR5 URL:\", cover_tunnel.public_url)\n",
        "    !python $app --listen-port 9999"
      ],
      "metadata": {
        "id": "oltZ5MPsWvXl",
        "cellView": "form"
      },
      "execution_count": null,
      "outputs": []
    }
  ],
  "metadata": {
    "accelerator": "GPU",
    "colab": {
      "gpuType": "T4",
      "provenance": [],
      "private_outputs": true,
      "include_colab_link": true
    },
    "kernelspec": {
      "display_name": "Python 3",
      "name": "python3"
    },
    "language_info": {
      "name": "python"
    }
  },
  "nbformat": 4,
  "nbformat_minor": 0
}